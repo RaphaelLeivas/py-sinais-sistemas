{
 "cells": [
  {
   "cell_type": "markdown",
   "metadata": {},
   "source": [
    "# My first notebook"
   ]
  },
  {
   "cell_type": "code",
   "execution_count": null,
   "metadata": {},
   "outputs": [
    {
     "name": "stdout",
     "output_type": "stream",
     "text": [
      "\\mathcal{L}_{t}\\left[e^{- 2^{t}}\\right]\\left(s\\right)\n",
      "\\frac{3}{s^{2} + 9}\n"
     ]
    }
   ],
   "source": [
    "from sympy import *\n",
    "\n",
    "## Exercicio 1\n",
    "\n",
    "t, s = symbols('t, s')\n",
    "funcoes = [exp(-2**t), sin(3*t)]\n",
    "\n",
    "for f in funcoes:\n",
    "    print(latex(laplace_transform(f, t, s, noconds=True)))"
   ]
  }
 ],
 "metadata": {
  "kernelspec": {
   "display_name": "myEnv",
   "language": "python",
   "name": "python3"
  },
  "language_info": {
   "codemirror_mode": {
    "name": "ipython",
    "version": 3
   },
   "file_extension": ".py",
   "mimetype": "text/x-python",
   "name": "python",
   "nbconvert_exporter": "python",
   "pygments_lexer": "ipython3",
   "version": "3.12.4"
  }
 },
 "nbformat": 4,
 "nbformat_minor": 2
}
